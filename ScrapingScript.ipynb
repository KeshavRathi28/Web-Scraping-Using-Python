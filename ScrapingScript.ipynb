{
 "cells": [
  {
   "cell_type": "code",
   "execution_count": 95,
   "metadata": {},
   "outputs": [],
   "source": [
    "from bs4 import BeautifulSoup\n",
    "import pandas\n",
    "import requests"
   ]
  },
  {
   "cell_type": "code",
   "execution_count": 96,
   "metadata": {},
   "outputs": [],
   "source": [
    "r = requests.get(\"https://www.tripadvisor.in/Attraction_Review-g297685-d8637703-Reviews-Roobaroo_Walks-Varanasi_Varanasi_District_Uttar_Pradesh.html\")\n",
    "c = r.content\n",
    "\n",
    "soup = BeautifulSoup(c, \"html.parser\")\n",
    "\n",
    "pages = soup.find_all(\"a\", {\"class\":\"pageNum cx_brand_refresh_phase2\"})\n",
    "for page in pages:\n",
    "    pageCount = page.getText()"
   ]
  },
  {
   "cell_type": "code",
   "execution_count": 97,
   "metadata": {},
   "outputs": [
    {
     "data": {
      "text/plain": [
       "'124'"
      ]
     },
     "execution_count": 97,
     "metadata": {},
     "output_type": "execute_result"
    }
   ],
   "source": [
    "pageCount"
   ]
  },
  {
   "cell_type": "code",
   "execution_count": 92,
   "metadata": {},
   "outputs": [],
   "source": [
    "l = []\n",
    "for page in range(0, int(pageCount) * 10, 10):\n",
    "    r = requests.get(\"https://www.tripadvisor.in/Attraction_Review-g297685-d8637703-Reviews-or\" + str(pageCount) + \"-Roobaroo_Walks-Varanasi_Varanasi_District_Uttar_Pradesh.html\")\n",
    "    c = r.content\n",
    "    soup = BeautifulSoup(c, \"html.parser\")\n",
    "    all = soup.find_all(\"div\", {\"class\":\"Dq9MAugU T870kzTX LnVzGwUB\"})\n",
    "    for item in all:\n",
    "        d = {}\n",
    "        d[\"User\"] = item.find(\"a\", {\"class\":\"ui_header_link _1r_My98y\"}).getText()\n",
    "        try:\n",
    "            d[\"Location\"] = item.find(\"span\", {\"class\":\"default _3J15flPT small\"}).getText()\n",
    "        except:\n",
    "            d[\"Location\"] = None\n",
    "        try:\n",
    "            d[\"Date of Experience\"] = item.find(\"div\", {\"class\":\"_2fxQ4TOx\"}).find(\"span\").getText().split(\"wrote a review \", 1)[1]\n",
    "        except:\n",
    "            d[\"Date of Experience\"] = None\n",
    "        d[\"Review Title\"] = item.find(\"a\", {\"class\":\"ocfR3SKN\"}).find(\"span\").getText()\n",
    "        d[\"Review Content\"] = item.find(\"q\", {\"class\":\"IRsGHoPm\"}).find(\"span\").getText()\n",
    "        l.append(d)"
   ]
  },
  {
   "cell_type": "code",
   "execution_count": 94,
   "metadata": {},
   "outputs": [],
   "source": [
    "df = pandas.DataFrame(l)\n",
    "df.to_csv(\"./Reviews.csv\", columns = [\"User\", \"Location\", \"Date of Experience\", \"Review Title\", \"Review Content\"])"
   ]
  }
 ],
 "metadata": {
  "kernelspec": {
   "display_name": "Python 3",
   "language": "python",
   "name": "python3"
  },
  "language_info": {
   "codemirror_mode": {
    "name": "ipython",
    "version": 3
   },
   "file_extension": ".py",
   "mimetype": "text/x-python",
   "name": "python",
   "nbconvert_exporter": "python",
   "pygments_lexer": "ipython3",
   "version": "3.8.5"
  }
 },
 "nbformat": 4,
 "nbformat_minor": 4
}
